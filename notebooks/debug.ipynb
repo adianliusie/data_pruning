{
 "cells": [
  {
   "cell_type": "code",
   "execution_count": 1,
   "id": "8f56c496",
   "metadata": {},
   "outputs": [
    {
     "name": "stdout",
     "output_type": "stream",
     "text": [
      "/home/alta/Conversational/OET/al826/2022/shortcuts/data_pruning\n"
     ]
    }
   ],
   "source": [
    "%cd .."
   ]
  },
  {
   "cell_type": "code",
   "execution_count": 6,
   "id": "dac5fead",
   "metadata": {},
   "outputs": [],
   "source": [
    "import torch\n",
    "\n",
    "from src.models import select_model\n",
    "from src.helpers.dir_helper import DirHelper\n",
    "\n",
    "def load_model(exp_path):\n",
    "    dir_ = DirHelper.load_dir(exp_path)\n",
    "\n",
    "    args = dir_.load_args('model_args.json')\n",
    "    model = select_model(model_name=args.transformer)\n",
    "    model.load_state_dict(\n",
    "        torch.load(dir_.abs_path + f'/models/base.pt'))\n",
    "    return model\n",
    "\n",
    "model_path = '/home/alta/Conversational/OET/al826/2022/shortcuts/data_pruning/trained_models/temp/0'   \n",
    "model = load_model(model_path)"
   ]
  },
  {
   "cell_type": "code",
   "execution_count": 12,
   "id": "5ce5e24a",
   "metadata": {},
   "outputs": [
    {
     "name": "stderr",
     "output_type": "stream",
     "text": [
      "Reusing dataset imdb (/home/alta/Conversational/OET/al826/.cache/huggingface/datasets/imdb/plain_text/1.0.0/2fdd8b9bcadd6e7055e742a706876ba43f19faee861df134affd7a3f60fc38a1)\n"
     ]
    },
    {
     "data": {
      "application/vnd.jupyter.widget-view+json": {
       "model_id": "81ae29b5ae454d96b6e67348555fe718",
       "version_major": 2,
       "version_minor": 0
      },
      "text/plain": [
       "  0%|          | 0/3 [00:00<?, ?it/s]"
      ]
     },
     "metadata": {},
     "output_type": "display_data"
    },
    {
     "name": "stderr",
     "output_type": "stream",
     "text": [
      "  0%|                                                                         | 0/80 [00:00<?, ?it/s]Token indices sequence length is longer than the specified maximum sequence length for this model (729 > 512). Running this sequence through the model will result in indexing errors\n",
      "100%|██████████████████████████████████████████████████████████████| 80/80 [00:00<00:00, 1176.09it/s]\n",
      "100%|██████████████████████████████████████████████████████████████| 20/20 [00:00<00:00, 1045.94it/s]\n",
      "100%|████████████████████████████████████████████████████████████| 100/100 [00:00<00:00, 1183.14it/s]\n"
     ]
    }
   ],
   "source": [
    "from src.helpers import DataLoader\n",
    "\n",
    "data_loader = DataLoader('bert')\n",
    "train, dev, test = data_loader('imdb', 100)\n"
   ]
  },
  {
   "cell_type": "code",
   "execution_count": 22,
   "id": "323d402f",
   "metadata": {},
   "outputs": [
    {
     "data": {
      "text/plain": [
       "torch.Size([1, 2])"
      ]
     },
     "execution_count": 22,
     "metadata": {},
     "output_type": "execute_result"
    }
   ],
   "source": []
  },
  {
   "cell_type": "code",
   "execution_count": null,
   "id": "f1b013f0",
   "metadata": {},
   "outputs": [],
   "source": []
  }
 ],
 "metadata": {
  "kernelspec": {
   "display_name": "Python 3 (ipykernel)",
   "language": "python",
   "name": "python3"
  },
  "language_info": {
   "codemirror_mode": {
    "name": "ipython",
    "version": 3
   },
   "file_extension": ".py",
   "mimetype": "text/x-python",
   "name": "python",
   "nbconvert_exporter": "python",
   "pygments_lexer": "ipython3",
   "version": "3.9.12"
  }
 },
 "nbformat": 4,
 "nbformat_minor": 5
}
