{
 "cells": [
  {
   "cell_type": "code",
   "execution_count": 4,
   "id": "da07b440",
   "metadata": {},
   "outputs": [
    {
     "name": "stdout",
     "output_type": "stream",
     "text": [
      "/home/alta/Conversational/OET/al826/2022/shortcuts\n"
     ]
    }
   ],
   "source": [
    "%cd .."
   ]
  },
  {
   "cell_type": "code",
   "execution_count": 7,
   "id": "ba7adb51",
   "metadata": {},
   "outputs": [
    {
     "name": "stderr",
     "output_type": "stream",
     "text": [
      "Reusing dataset paws (/home/alta/Conversational/OET/al826/.cache/huggingface/datasets/paws/labeled_final/1.1.0/8d567c6472623f42bd2cc635cad06932d0f0cd2f897db56013c1180f4317d338)\n"
     ]
    },
    {
     "data": {
      "application/vnd.jupyter.widget-view+json": {
       "model_id": "3a919abee1b54c7a9ba38140393909d8",
       "version_major": 2,
       "version_minor": 0
      },
      "text/plain": [
       "  0%|          | 0/3 [00:00<?, ?it/s]"
      ]
     },
     "metadata": {},
     "output_type": "display_data"
    },
    {
     "name": "stderr",
     "output_type": "stream",
     "text": [
      "100%|████████████████████████████████████████████████████████████| 49401/49401 [00:16<00:00, 2935.22it/s]\n",
      "100%|██████████████████████████████████████████████████████████████| 8000/8000 [00:02<00:00, 2909.12it/s]\n",
      "100%|██████████████████████████████████████████████████████████████| 8000/8000 [00:02<00:00, 2873.67it/s]\n"
     ]
    },
    {
     "name": "stdout",
     "output_type": "stream",
     "text": [
      "0\n",
      "1\n",
      "0.7891396215054386\n"
     ]
    }
   ],
   "source": [
    "from src.helpers import make_ranker, DataLoader\n",
    "from scipy import stats\n",
    "\n",
    "base_dir = '/home/alta/Conversational/OET/al826/2022/shortcuts/data_pruning/trained_models/temp'\n",
    "scores = []\n",
    "data_loader = DataLoader('bert')\n",
    "\n",
    "train, dev, test = data_loader('paws')\n",
    "\n",
    "temp_output = []\n",
    "for i in range(2):\n",
    "    print(i)\n",
    "    ranker = make_ranker('loss', f'{base_dir}/{i}')\n",
    "    scores = [ranker.get_ex_score(ex) for ex in train[20_000:22_000]]\n",
    "    temp_output.append(scores)\n",
    "\n",
    "cor = stats.pearsonr(temp_output[0], temp_output[1])[0]\n",
    "print(cor)"
   ]
  },
  {
   "cell_type": "code",
   "execution_count": null,
   "id": "61e87d97",
   "metadata": {},
   "outputs": [],
   "source": [
    "from src.helpers import make_ranker, DataLoader\n",
    "\n",
    "base_dir = '/home/alta/Conversational/OET/al826/2022/shortcuts/data_pruning/trained_models/hpc/baseline'\n",
    "scores = []\n",
    "data_loader = DataLoader('bert')\n",
    "\n",
    "train, dev, test = data_loader('paws', 500)\n",
    "\n",
    "output = []\n",
    "for i in range(5):\n",
    "    ranker = make_ranker('loss', f'{base_dir}/{i}')\n",
    "    scores = [ranker.get_ex_score(ex) for ex in train]\n",
    "    output.append(scores)\n"
   ]
  },
  {
   "cell_type": "code",
   "execution_count": null,
   "id": "de9f841d",
   "metadata": {},
   "outputs": [],
   "source": [
    "print(ranker.model)"
   ]
  },
  {
   "cell_type": "code",
   "execution_count": null,
   "id": "73e3922b",
   "metadata": {},
   "outputs": [],
   "source": []
  }
 ],
 "metadata": {
  "kernelspec": {
   "display_name": "Python 3 (ipykernel)",
   "language": "python",
   "name": "python3"
  },
  "language_info": {
   "codemirror_mode": {
    "name": "ipython",
    "version": 3
   },
   "file_extension": ".py",
   "mimetype": "text/x-python",
   "name": "python",
   "nbconvert_exporter": "python",
   "pygments_lexer": "ipython3",
   "version": "3.9.12"
  }
 },
 "nbformat": 4,
 "nbformat_minor": 5
}
