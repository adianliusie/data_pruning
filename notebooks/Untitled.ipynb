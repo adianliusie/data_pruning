{
 "cells": [
  {
   "cell_type": "code",
   "execution_count": 4,
   "id": "13fe9990",
   "metadata": {},
   "outputs": [
    {
     "name": "stdout",
     "output_type": "stream",
     "text": [
      "/home/alta/Conversational/OET/al826/2022/shortcuts/data_pruning\n"
     ]
    }
   ],
   "source": [
    "%cd .."
   ]
  },
  {
   "cell_type": "code",
   "execution_count": 7,
   "id": "1ce52e78",
   "metadata": {},
   "outputs": [
    {
     "name": "stderr",
     "output_type": "stream",
     "text": [
      "100%|██████████████████████████████████████████████████████████████████████████████████████████| 16000/16000 [00:02<00:00, 7816.14it/s]\n",
      "100%|████████████████████████████████████████████████████████████████████████████████████████████| 2000/2000 [00:00<00:00, 8533.36it/s]\n",
      "100%|████████████████████████████████████████████████████████████████████████████████████████████| 1840/1840 [00:00<00:00, 8404.59it/s]\n"
     ]
    }
   ],
   "source": [
    "from src.helpers import DataLoader, DirHelper, Batcher\n",
    "\n",
    "data_loader = DataLoader('bert', formatting=None)\n",
    "\n",
    "train, dev, test = data_loader('twitter', 100)"
   ]
  },
  {
   "cell_type": "code",
   "execution_count": null,
   "id": "7ecffef5",
   "metadata": {},
   "outputs": [],
   "source": []
  }
 ],
 "metadata": {
  "kernelspec": {
   "display_name": "Python 3 (ipykernel)",
   "language": "python",
   "name": "python3"
  },
  "language_info": {
   "codemirror_mode": {
    "name": "ipython",
    "version": 3
   },
   "file_extension": ".py",
   "mimetype": "text/x-python",
   "name": "python",
   "nbconvert_exporter": "python",
   "pygments_lexer": "ipython3",
   "version": "3.9.12"
  }
 },
 "nbformat": 4,
 "nbformat_minor": 5
}
