{
 "cells": [
  {
   "cell_type": "code",
   "execution_count": 1,
   "id": "ad7874bd",
   "metadata": {},
   "outputs": [
    {
     "name": "stdout",
     "output_type": "stream",
     "text": [
      "/home/alta/Conversational/OET/al826/2022/shortcuts/data_pruning\n"
     ]
    }
   ],
   "source": [
    "%cd .."
   ]
  },
  {
   "cell_type": "code",
   "execution_count": 12,
   "id": "4d1923f4",
   "metadata": {},
   "outputs": [
    {
     "name": "stderr",
     "output_type": "stream",
     "text": [
      "Reusing dataset paws (/home/alta/Conversational/OET/al826/.cache/huggingface/datasets/paws/labeled_final/1.1.0/8d567c6472623f42bd2cc635cad06932d0f0cd2f897db56013c1180f4317d338)\n"
     ]
    },
    {
     "data": {
      "application/vnd.jupyter.widget-view+json": {
       "model_id": "9003899dd2f24e199f8fd6f1c0e03a73",
       "version_major": 2,
       "version_minor": 0
      },
      "text/plain": [
       "  0%|          | 0/3 [00:00<?, ?it/s]"
      ]
     },
     "metadata": {},
     "output_type": "display_data"
    },
    {
     "name": "stdout",
     "output_type": "stream",
     "text": [
      "[91.3375, 91.57499999999999, 91.4875, 91.9625, 91.2]\n",
      "(91.51249999999999, 0.2589642832515712)\n"
     ]
    }
   ],
   "source": [
    "from src.system_loader import EnsembleLoader, SystemLoader\n",
    "from src.utils.evaluation import get_seed_accuracy, get_accuracy\n",
    "\n",
    "system = EnsembleLoader('trained_models/hpc/baseline') \n",
    "seed_preds  = system.load_seed_preds('paws', mode='test')\n",
    "labels = SystemLoader.load_labels('paws', mode='test')\n",
    "print(get_seed_accuracy(seed_preds, labels))"
   ]
  },
  {
   "cell_type": "code",
   "execution_count": 13,
   "id": "5767057b",
   "metadata": {},
   "outputs": [],
   "source": [
    "import numpy as np\n",
    "\n",
    "sample_ids = [k for k in labels]\n",
    "seed_1 = np.array([seed_preds[0][k] for k in sample_ids])\n",
    "seed_2 = np.array([seed_preds[1][k] for k in sample_ids])\n",
    "seed_3 = np.array([seed_preds[2][k] for k in sample_ids])\n",
    "seed_4 = np.array([seed_preds[3][k] for k in sample_ids])\n",
    "seed_5 = np.array([seed_preds[4][k] for k in sample_ids])\n",
    "labels_np = np.array([labels[k]     for k in sample_ids])"
   ]
  },
  {
   "cell_type": "code",
   "execution_count": 14,
   "id": "100ccddc",
   "metadata": {},
   "outputs": [
    {
     "name": "stdout",
     "output_type": "stream",
     "text": [
      "8000\n"
     ]
    }
   ],
   "source": [
    "print(len(labels_np))"
   ]
  },
  {
   "cell_type": "code",
   "execution_count": 15,
   "id": "490a75d0",
   "metadata": {},
   "outputs": [],
   "source": [
    "incorrect_1 = [k for k in sample_ids if seed_preds[0][k] != labels[k]]\n",
    "incorrect_2 = [k for k in sample_ids if seed_preds[1][k] != labels[k]]"
   ]
  },
  {
   "cell_type": "code",
   "execution_count": 16,
   "id": "bac8e7fd",
   "metadata": {},
   "outputs": [
    {
     "name": "stdout",
     "output_type": "stream",
     "text": [
      "0.5463800904977375\n"
     ]
    }
   ],
   "source": [
    "overlap = len(set(incorrect_1) & set(incorrect_2))\n",
    "union   = len(set(incorrect_1) | set(incorrect_2))\n",
    "\n",
    "print(overlap/union)"
   ]
  },
  {
   "cell_type": "code",
   "execution_count": 17,
   "id": "cea229fc",
   "metadata": {},
   "outputs": [
    {
     "name": "stdout",
     "output_type": "stream",
     "text": [
      "0.95075\n"
     ]
    }
   ],
   "source": [
    "overlap = (seed_4 == labels_np) == (seed_1 == labels_np)\n",
    "print(overlap.sum()/labels_np.shape[0])"
   ]
  },
  {
   "cell_type": "code",
   "execution_count": null,
   "id": "a6c7f3ac",
   "metadata": {},
   "outputs": [],
   "source": [
    "from src."
   ]
  }
 ],
 "metadata": {
  "kernelspec": {
   "display_name": "Python 3 (ipykernel)",
   "language": "python",
   "name": "python3"
  },
  "language_info": {
   "codemirror_mode": {
    "name": "ipython",
    "version": 3
   },
   "file_extension": ".py",
   "mimetype": "text/x-python",
   "name": "python",
   "nbconvert_exporter": "python",
   "pygments_lexer": "ipython3",
   "version": "3.9.12"
  }
 },
 "nbformat": 4,
 "nbformat_minor": 5
}
