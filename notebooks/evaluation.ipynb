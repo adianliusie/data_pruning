{
 "cells": [
  {
   "cell_type": "code",
   "execution_count": 1,
   "id": "4768c765",
   "metadata": {},
   "outputs": [
    {
     "name": "stdout",
     "output_type": "stream",
     "text": [
      "/home/alta/Conversational/OET/al826/2022/shortcuts/data_pruning\n"
     ]
    }
   ],
   "source": [
    "%cd .."
   ]
  },
  {
   "cell_type": "code",
   "execution_count": 4,
   "id": "bb2b2a22",
   "metadata": {},
   "outputs": [
    {
     "name": "stderr",
     "output_type": "stream",
     "text": [
      "Reusing dataset super_glue (/home/alta/Conversational/OET/al826/.cache/huggingface/datasets/super_glue/boolq/1.0.2/d040c658e2ddef6934fdd97deb45c777b6ff50c524781ea434e7219b56a428a7)\n"
     ]
    },
    {
     "data": {
      "application/vnd.jupyter.widget-view+json": {
       "model_id": "2cf6b72e0a414620a7d8205a88e86e76",
       "version_major": 2,
       "version_minor": 0
      },
      "text/plain": [
       "  0%|          | 0/3 [00:00<?, ?it/s]"
      ]
     },
     "metadata": {},
     "output_type": "display_data"
    },
    {
     "name": "stderr",
     "output_type": "stream",
     "text": [
      "100%|████████████████████████████████████████████████| 3270/3270 [00:00<00:00, 11356.85it/s]\n",
      "3270it [00:41, 79.33it/s]\n",
      "Reusing dataset super_glue (/home/alta/Conversational/OET/al826/.cache/huggingface/datasets/super_glue/boolq/1.0.2/d040c658e2ddef6934fdd97deb45c777b6ff50c524781ea434e7219b56a428a7)\n"
     ]
    },
    {
     "data": {
      "application/vnd.jupyter.widget-view+json": {
       "model_id": "18a90dcdd0b74dd88cb94ab4c4e503e8",
       "version_major": 2,
       "version_minor": 0
      },
      "text/plain": [
       "  0%|          | 0/3 [00:00<?, ?it/s]"
      ]
     },
     "metadata": {},
     "output_type": "display_data"
    },
    {
     "name": "stderr",
     "output_type": "stream",
     "text": [
      "100%|████████████████████████████████████████████████| 3270/3270 [00:00<00:00, 11014.46it/s]\n",
      "3270it [00:41, 78.58it/s]\n",
      "Reusing dataset super_glue (/home/alta/Conversational/OET/al826/.cache/huggingface/datasets/super_glue/boolq/1.0.2/d040c658e2ddef6934fdd97deb45c777b6ff50c524781ea434e7219b56a428a7)\n"
     ]
    },
    {
     "data": {
      "application/vnd.jupyter.widget-view+json": {
       "model_id": "faa2d3c323004de1a032352af948100e",
       "version_major": 2,
       "version_minor": 0
      },
      "text/plain": [
       "  0%|          | 0/3 [00:00<?, ?it/s]"
      ]
     },
     "metadata": {},
     "output_type": "display_data"
    },
    {
     "name": "stderr",
     "output_type": "stream",
     "text": [
      "100%|████████████████████████████████████████████████| 3270/3270 [00:00<00:00, 10891.13it/s]\n",
      "3270it [00:42, 77.37it/s]\n",
      "Reusing dataset super_glue (/home/alta/Conversational/OET/al826/.cache/huggingface/datasets/super_glue/boolq/1.0.2/d040c658e2ddef6934fdd97deb45c777b6ff50c524781ea434e7219b56a428a7)\n"
     ]
    },
    {
     "data": {
      "application/vnd.jupyter.widget-view+json": {
       "model_id": "86da21a11d9542ebafc8e96f9da8ae9a",
       "version_major": 2,
       "version_minor": 0
      },
      "text/plain": [
       "  0%|          | 0/3 [00:00<?, ?it/s]"
      ]
     },
     "metadata": {},
     "output_type": "display_data"
    },
    {
     "name": "stderr",
     "output_type": "stream",
     "text": [
      "100%|████████████████████████████████████████████████| 3270/3270 [00:00<00:00, 11367.94it/s]\n",
      "3270it [00:41, 79.08it/s]\n",
      "Reusing dataset super_glue (/home/alta/Conversational/OET/al826/.cache/huggingface/datasets/super_glue/boolq/1.0.2/d040c658e2ddef6934fdd97deb45c777b6ff50c524781ea434e7219b56a428a7)\n"
     ]
    },
    {
     "data": {
      "application/vnd.jupyter.widget-view+json": {
       "model_id": "89026543ad8a4f6e9a54202ff914b622",
       "version_major": 2,
       "version_minor": 0
      },
      "text/plain": [
       "  0%|          | 0/3 [00:00<?, ?it/s]"
      ]
     },
     "metadata": {},
     "output_type": "display_data"
    },
    {
     "name": "stderr",
     "output_type": "stream",
     "text": [
      "100%|████████████████████████████████████████████████| 3270/3270 [00:00<00:00, 11053.43it/s]\n",
      "3270it [00:41, 78.52it/s]\n",
      "Reusing dataset super_glue (/home/alta/Conversational/OET/al826/.cache/huggingface/datasets/super_glue/boolq/1.0.2/d040c658e2ddef6934fdd97deb45c777b6ff50c524781ea434e7219b56a428a7)\n"
     ]
    },
    {
     "data": {
      "application/vnd.jupyter.widget-view+json": {
       "model_id": "432278c6c5c84538aa9e4a8b6f42a03b",
       "version_major": 2,
       "version_minor": 0
      },
      "text/plain": [
       "  0%|          | 0/3 [00:00<?, ?it/s]"
      ]
     },
     "metadata": {},
     "output_type": "display_data"
    },
    {
     "name": "stdout",
     "output_type": "stream",
     "text": [
      "[52.78287461773701, 54.52599388379205, 53.14984709480123, 53.91437308868502, 53.272171253822634]\n",
      "(53.52905198776758, 0.617888375797529)\n"
     ]
    }
   ],
   "source": [
    "from src.system_loader import EnsembleLoader, SystemLoader\n",
    "from src.utils.evaluation import get_seed_accuracy, get_accuracy\n",
    "\n",
    "system = EnsembleLoader('trained_models/boolq/balanced/loss_0.1') \n",
    "seed_preds  = system.load_seed_preds('boolq', mode='test')\n",
    "labels = SystemLoader.load_labels('boolq', mode='test')\n",
    "print(get_seed_accuracy(seed_preds, labels))"
   ]
  },
  {
   "cell_type": "code",
   "execution_count": null,
   "id": "d4459799",
   "metadata": {},
   "outputs": [],
   "source": [
    "print(get_accuracy(seed_preds[0], labels))"
   ]
  },
  {
   "cell_type": "code",
   "execution_count": null,
   "id": "cc9121de",
   "metadata": {},
   "outputs": [],
   "source": [
    "from collections import Counter \n",
    "\n",
    "train_labels = SystemLoader.load_labels('boolq', mode='test')\n",
    "\n",
    "print(Counter(train_labels.values()))"
   ]
  },
  {
   "cell_type": "code",
   "execution_count": null,
   "id": "e2d2c53f",
   "metadata": {},
   "outputs": [],
   "source": [
    "from src.system_loader import EnsembleLoader, SystemLoader\n",
    "from src.utils.evaluation import get_accuracy\n",
    "\n",
    "system = EnsembleLoader('trained_models/boolq/random_0.1') \n",
    "preds  = system.load_preds('boolq', mode='test')\n",
    "labels = SystemLoader.load_labels('boolq', mode='test')\n",
    "print(get_accuracy(preds, labels))"
   ]
  },
  {
   "cell_type": "code",
   "execution_count": null,
   "id": "5661919e",
   "metadata": {},
   "outputs": [],
   "source": []
  }
 ],
 "metadata": {
  "kernelspec": {
   "display_name": "Python 3 (ipykernel)",
   "language": "python",
   "name": "python3"
  },
  "language_info": {
   "codemirror_mode": {
    "name": "ipython",
    "version": 3
   },
   "file_extension": ".py",
   "mimetype": "text/x-python",
   "name": "python",
   "nbconvert_exporter": "python",
   "pygments_lexer": "ipython3",
   "version": "3.9.12"
  }
 },
 "nbformat": 4,
 "nbformat_minor": 5
}
